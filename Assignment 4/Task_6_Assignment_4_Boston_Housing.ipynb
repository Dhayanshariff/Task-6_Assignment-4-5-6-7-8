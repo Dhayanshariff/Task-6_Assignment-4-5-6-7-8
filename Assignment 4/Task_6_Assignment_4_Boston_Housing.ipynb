{
  "nbformat": 4,
  "nbformat_minor": 0,
  "metadata": {
    "colab": {
      "provenance": [],
      "authorship_tag": "ABX9TyOisu4S+2V8VxNE0mrVHBD3",
      "include_colab_link": true
    },
    "kernelspec": {
      "name": "python3",
      "display_name": "Python 3"
    },
    "language_info": {
      "name": "python"
    }
  },
  "cells": [
    {
      "cell_type": "markdown",
      "metadata": {
        "id": "view-in-github",
        "colab_type": "text"
      },
      "source": [
        "<a href=\"https://colab.research.google.com/github/Dhayanshariff/Task-6_Assignment-4-5-6-7-8/blob/main/Assignment%204/Task_6_Assignment_4_Boston_Housing.ipynb\" target=\"_parent\"><img src=\"https://colab.research.google.com/assets/colab-badge.svg\" alt=\"Open In Colab\"/></a>"
      ]
    },
    {
      "cell_type": "code",
      "execution_count": 39,
      "metadata": {
        "id": "5fTtph6tMzVD"
      },
      "outputs": [],
      "source": [
        "import numpy as np\n",
        "import matplotlib.pyplot as plt"
      ]
    },
    {
      "cell_type": "code",
      "source": [
        "phi = np.loadtxt('train.csv', dtype='float', delimiter=',', skiprows=1, usecols=tuple(range(1, 14)))\n",
        "phi"
      ],
      "metadata": {
        "colab": {
          "base_uri": "https://localhost:8080/"
        },
        "id": "0bHEqEBjs_Jf",
        "outputId": "cc47ffc8-9a54-417e-8cd9-51cfd7f9b07b"
      },
      "execution_count": 40,
      "outputs": [
        {
          "output_type": "execute_result",
          "data": {
            "text/plain": [
              "array([[9.55770e-01, 0.00000e+00, 8.14000e+00, ..., 2.10000e+01,\n",
              "        3.06380e+02, 1.72800e+01],\n",
              "       [2.87500e-02, 2.80000e+01, 1.50400e+01, ..., 1.82000e+01,\n",
              "        3.96330e+02, 6.21000e+00],\n",
              "       [1.22358e+00, 0.00000e+00, 1.95800e+01, ..., 1.47000e+01,\n",
              "        3.63430e+02, 4.59000e+00],\n",
              "       ...,\n",
              "       [6.65492e+00, 0.00000e+00, 1.81000e+01, ..., 2.02000e+01,\n",
              "        3.96900e+02, 1.39900e+01],\n",
              "       [1.31170e-01, 0.00000e+00, 8.56000e+00, ..., 2.09000e+01,\n",
              "        3.87690e+02, 1.40900e+01],\n",
              "       [6.46600e-02, 7.00000e+01, 2.24000e+00, ..., 1.48000e+01,\n",
              "        3.68240e+02, 4.97000e+00]])"
            ]
          },
          "metadata": {},
          "execution_count": 40
        }
      ]
    },
    {
      "cell_type": "code",
      "source": [
        "phi_test = np.loadtxt('test.csv', dtype='float', delimiter=',', skiprows=1, usecols=tuple(range(1, 14)))\n",
        "phi_test"
      ],
      "metadata": {
        "colab": {
          "base_uri": "https://localhost:8080/"
        },
        "id": "5EFThqj5us3G",
        "outputId": "28748f43-bf5e-4f83-88e9-02558510bcb8"
      },
      "execution_count": 41,
      "outputs": [
        {
          "output_type": "execute_result",
          "data": {
            "text/plain": [
              "array([[1.06120e-01, 3.00000e+01, 4.93000e+00, ..., 1.66000e+01,\n",
              "        3.94620e+02, 1.24000e+01],\n",
              "       [3.41090e-01, 0.00000e+00, 7.38000e+00, ..., 1.96000e+01,\n",
              "        3.96900e+02, 6.12000e+00],\n",
              "       [1.22472e+01, 0.00000e+00, 1.81000e+01, ..., 2.02000e+01,\n",
              "        2.46500e+01, 1.56900e+01],\n",
              "       ...,\n",
              "       [5.36000e-02, 2.10000e+01, 5.64000e+00, ..., 1.68000e+01,\n",
              "        3.96900e+02, 5.28000e+00],\n",
              "       [1.04690e-01, 4.00000e+01, 6.41000e+00, ..., 1.76000e+01,\n",
              "        3.89250e+02, 6.05000e+00],\n",
              "       [4.55587e+00, 0.00000e+00, 1.81000e+01, ..., 2.02000e+01,\n",
              "        3.54700e+02, 7.12000e+00]])"
            ]
          },
          "metadata": {},
          "execution_count": 41
        }
      ]
    },
    {
      "cell_type": "code",
      "source": [
        "y = np.loadtxt('train.csv', dtype='float', delimiter=',', skiprows=1, usecols=14, ndmin=2)"
      ],
      "metadata": {
        "id": "0K1ZcEgpuv4m"
      },
      "execution_count": 42,
      "outputs": []
    },
    {
      "cell_type": "code",
      "source": [
        "# Concatenate coloumn of 1s to right of phi and phi_test\n",
        "phi = np.concatenate((phi, np.ones((400, 1))), axis=1)\n",
        "phi_test = np.concatenate((phi_test, np.ones((105, 1))), axis=1)"
      ],
      "metadata": {
        "id": "nQDSs6Rau9wG"
      },
      "execution_count": 43,
      "outputs": []
    },
    {
      "cell_type": "code",
      "source": [
        "phi"
      ],
      "metadata": {
        "colab": {
          "base_uri": "https://localhost:8080/"
        },
        "id": "4eILwx8nvQdm",
        "outputId": "54b71679-a8ec-494d-8ffa-b166ccd33883"
      },
      "execution_count": 44,
      "outputs": [
        {
          "output_type": "execute_result",
          "data": {
            "text/plain": [
              "array([[9.55770e-01, 0.00000e+00, 8.14000e+00, ..., 3.06380e+02,\n",
              "        1.72800e+01, 1.00000e+00],\n",
              "       [2.87500e-02, 2.80000e+01, 1.50400e+01, ..., 3.96330e+02,\n",
              "        6.21000e+00, 1.00000e+00],\n",
              "       [1.22358e+00, 0.00000e+00, 1.95800e+01, ..., 3.63430e+02,\n",
              "        4.59000e+00, 1.00000e+00],\n",
              "       ...,\n",
              "       [6.65492e+00, 0.00000e+00, 1.81000e+01, ..., 3.96900e+02,\n",
              "        1.39900e+01, 1.00000e+00],\n",
              "       [1.31170e-01, 0.00000e+00, 8.56000e+00, ..., 3.87690e+02,\n",
              "        1.40900e+01, 1.00000e+00],\n",
              "       [6.46600e-02, 7.00000e+01, 2.24000e+00, ..., 3.68240e+02,\n",
              "        4.97000e+00, 1.00000e+00]])"
            ]
          },
          "metadata": {},
          "execution_count": 44
        }
      ]
    },
    {
      "cell_type": "code",
      "source": [
        "phi_test"
      ],
      "metadata": {
        "colab": {
          "base_uri": "https://localhost:8080/"
        },
        "id": "X71LzsKPvGLG",
        "outputId": "42766861-1969-4454-ade8-a7552837a06f"
      },
      "execution_count": 45,
      "outputs": [
        {
          "output_type": "execute_result",
          "data": {
            "text/plain": [
              "array([[1.06120e-01, 3.00000e+01, 4.93000e+00, ..., 3.94620e+02,\n",
              "        1.24000e+01, 1.00000e+00],\n",
              "       [3.41090e-01, 0.00000e+00, 7.38000e+00, ..., 3.96900e+02,\n",
              "        6.12000e+00, 1.00000e+00],\n",
              "       [1.22472e+01, 0.00000e+00, 1.81000e+01, ..., 2.46500e+01,\n",
              "        1.56900e+01, 1.00000e+00],\n",
              "       ...,\n",
              "       [5.36000e-02, 2.10000e+01, 5.64000e+00, ..., 3.96900e+02,\n",
              "        5.28000e+00, 1.00000e+00],\n",
              "       [1.04690e-01, 4.00000e+01, 6.41000e+00, ..., 3.89250e+02,\n",
              "        6.05000e+00, 1.00000e+00],\n",
              "       [4.55587e+00, 0.00000e+00, 1.81000e+01, ..., 3.54700e+02,\n",
              "        7.12000e+00, 1.00000e+00]])"
            ]
          },
          "metadata": {},
          "execution_count": 45
        }
      ]
    },
    {
      "cell_type": "code",
      "source": [
        "#Apply min max scaling on each coloumn of phi and phi_test\n",
        "for i in range(0, 13):\n",
        "  column_min = min(phi[:, i])\n",
        "  column_max = max(phi[:, i])\n",
        "  phi[:, i] = (phi[:, i] - column_min) / (column_max - column_min)\n",
        "  phi_test[:, i] = (phi_test[:, i] - column_min) / (column_max - column_min)"
      ],
      "metadata": {
        "id": "G1f8SLuKvU5W"
      },
      "execution_count": 46,
      "outputs": []
    },
    {
      "cell_type": "code",
      "source": [
        "phi"
      ],
      "metadata": {
        "colab": {
          "base_uri": "https://localhost:8080/"
        },
        "id": "WwXt-AI-vU34",
        "outputId": "dbc3fb2b-75e9-4766-96eb-2e454236f786"
      },
      "execution_count": 47,
      "outputs": [
        {
          "output_type": "execute_result",
          "data": {
            "text/plain": [
              "array([[1.06411199e-02, 0.00000000e+00, 2.81524927e-01, ...,\n",
              "        7.71748449e-01, 4.26074896e-01, 1.00000000e+00],\n",
              "       [2.21317669e-04, 2.94736842e-01, 5.34457478e-01, ...,\n",
              "        9.98562711e-01, 1.19001387e-01, 1.00000000e+00],\n",
              "       [1.36513324e-02, 0.00000000e+00, 7.00879765e-01, ...,\n",
              "        9.15603409e-01, 7.40638003e-02, 1.00000000e+00],\n",
              "       ...,\n",
              "       [7.47001646e-02, 0.00000000e+00, 6.46627566e-01, ...,\n",
              "        1.00000000e+00, 3.34812760e-01, 1.00000000e+00],\n",
              "       [1.37252923e-03, 0.00000000e+00, 2.96920821e-01, ...,\n",
              "        9.76776439e-01, 3.37586685e-01, 1.00000000e+00],\n",
              "       [6.24949841e-04, 7.36842105e-01, 6.52492669e-02, ...,\n",
              "        9.27732110e-01, 8.46047157e-02, 1.00000000e+00]])"
            ]
          },
          "metadata": {},
          "execution_count": 47
        }
      ]
    },
    {
      "cell_type": "code",
      "source": [
        "phi_test"
      ],
      "metadata": {
        "colab": {
          "base_uri": "https://localhost:8080/"
        },
        "id": "GrKzMvb1v__n",
        "outputId": "e78404d3-791d-4fe0-a349-20be4e9c08a5"
      },
      "execution_count": 48,
      "outputs": [
        {
          "output_type": "execute_result",
          "data": {
            "text/plain": [
              "array([[1.09096460e-03, 3.15789474e-01, 1.63856305e-01, ...,\n",
              "        9.94250845e-01, 2.90707351e-01, 1.00000000e+00],\n",
              "       [3.73205208e-03, 0.00000000e+00, 2.53665689e-01, ...,\n",
              "        1.00000000e+00, 1.16504854e-01, 1.00000000e+00],\n",
              "       [1.37557979e-01, 0.00000000e+00, 6.46627566e-01, ...,\n",
              "        6.13495386e-02, 3.81969487e-01, 1.00000000e+00],\n",
              "       ...,\n",
              "       [5.00634279e-04, 2.21052632e-01, 1.89882698e-01, ...,\n",
              "        1.00000000e+00, 9.32038835e-02, 1.00000000e+00],\n",
              "       [1.07489125e-03, 4.21052632e-01, 2.18108504e-01, ...,\n",
              "        9.80710071e-01, 1.14563107e-01, 1.00000000e+00],\n",
              "       [5.11066221e-02, 0.00000000e+00, 6.46627566e-01, ...,\n",
              "        8.93590196e-01, 1.44244105e-01, 1.00000000e+00]])"
            ]
          },
          "metadata": {},
          "execution_count": 48
        }
      ]
    },
    {
      "cell_type": "code",
      "source": [
        "# Apply log scaling on y\n",
        "y = np.log(y)"
      ],
      "metadata": {
        "id": "VU7ToJfuwm4r"
      },
      "execution_count": 49,
      "outputs": []
    },
    {
      "cell_type": "code",
      "source": [
        "# Define a function to calculate change in error function based on phi, w and p norm\n",
        "def fun_delta(p, phi, w):\n",
        "  if p == 2:\n",
        "    delta = (2 * (np.dot(np.dot(np.transpose(phi), phi), w) - np.dot(np.transpose(phi), y)) + lmd * p * np.power(np.absolute(w), (p - 1)))\n",
        "  if p < 2 and p > 1:\n",
        "    delta = (2 * (np.dot(np.dot(np.transpose(phi), phi), w) - np.dot(np.transpose(phi), y)) + lmd * p * np.power(np.absolute(w), (p - 1)) * np.sign(w))\n",
        "  return delta"
      ],
      "metadata": {
        "id": "6hjmJ1hgwm3G"
      },
      "execution_count": 50,
      "outputs": []
    },
    {
      "cell_type": "code",
      "source": [
        "#Make a dictionary containing filenames as keys and p as values\n",
        "filenames = {'p1.csv': 1.75, 'p2.csv': 1.5, 'p3.csv': 1.3}"
      ],
      "metadata": {
        "id": "FsF_r7EH8nCQ"
      },
      "execution_count": 51,
      "outputs": []
    },
    {
      "cell_type": "code",
      "source": [
        "# For each item in this dictionary\n",
        "for (fname, p) in filenames.items():\n",
        "    w = np.zeros((14, 1))     # Set the w to all 0s\n",
        "    lmd = 0.2       # Set an appropriate value for lambda and step size\n",
        "    t = 0.00012\n",
        "    w_new = w - t * fun_delta(p, phi, w)    #Calculate new value of w\n",
        "    i = 0\n",
        "    while(np.linalg.norm(w_new-w) > 10 ** -10):   # Repeat steps until error between consecutive ws is less than threshold\n",
        "      w = w_new\n",
        "      w_new = w - t * fun_delta(p, phi, w)\n",
        "      i = i + 1\n",
        "\n",
        "    id_test = np.loadtxt('test.csv', dtype='int', delimiter=',', skiprows=1, usecols=0, ndmin=2)  # Load values of id from test data file\n",
        "\n",
        "    y_test = np.exp(np.dot(phi_test, w_new))  # Calculate y for test data using phi test and applying inverse log\n",
        "    \n",
        "    np.savetxt(fname, np.concatenate((id_test, y_test), axis=1), delimiter=',', fmt=['%d', '%f'], header='ID,MEDV', comments='')   # Save the ids and y according to filename from dictionary"
      ],
      "metadata": {
        "id": "-s1O_2Xn9I11"
      },
      "execution_count": 52,
      "outputs": []
    },
    {
      "cell_type": "markdown",
      "source": [
        "The output files for the given p values are saved as p1, p2 and p3. Additionaly, I have plotted a line graph below, to see how the different P values affect the MEDV"
      ],
      "metadata": {
        "id": "davcUfFeDHy-"
      }
    },
    {
      "cell_type": "code",
      "source": [
        "import matplotlib.pyplot as plt\n",
        "import csv\n",
        "\n",
        "x1 = []\n",
        "y1 = []\n",
        "x2 = []\n",
        "y2 = []\n",
        "x3 = []\n",
        "y3 = []\n",
        "\n",
        "with open('p1.csv','r') as csvfile:\n",
        "\tlines = csv.reader(csvfile, delimiter=',')\n",
        "\tfor row in lines:\n",
        "\t\tx1.append(row[0])\n",
        "\t\ty1.append(row[1])\n",
        "  \n",
        "with open('p2.csv','r') as csvfile:\n",
        "\tlines = csv.reader(csvfile, delimiter=',')\n",
        "\tfor row in lines:\n",
        "\t\tx2.append(row[0])\n",
        "\t\ty2.append(row[1])\n",
        "  \n",
        "with open('p3.csv','r') as csvfile:\n",
        "\tlines = csv.reader(csvfile, delimiter=',')\n",
        "\tfor row in lines:\n",
        "\t\tx3.append(row[0])\n",
        "\t\ty3.append(row[1])\n",
        "\n",
        "plt.plot(x1, y1, color = 'g',  label = \"P = 1.75\")\n",
        "plt.plot(x2, y2, color = 'r',  label = \"P = 1.5\")\n",
        "plt.plot(x3, y3, color = 'b',  label = \"P = 1.3\")\n",
        "plt.tick_params(left = False, right = False , bottom = False, labelleft = False , labelbottom = False)\n",
        "plt.xlabel('ID')\n",
        "plt.ylabel('MEDV')\n",
        "plt.title('MEDV trend for different P values', fontsize = 15)\n",
        "plt.legend()\n",
        "plt.show()\n"
      ],
      "metadata": {
        "colab": {
          "base_uri": "https://localhost:8080/",
          "height": 280
        },
        "id": "0YULzcooD-sh",
        "outputId": "0b0f246d-cd95-4e8f-c0e7-33634f9ef93b"
      },
      "execution_count": 62,
      "outputs": [
        {
          "output_type": "display_data",
          "data": {
            "text/plain": [
              "<Figure size 432x288 with 1 Axes>"
            ],
            "image/png": "[encoded data removed]"
          },
          "metadata": {}
        }
      ]
    }
  ]
}